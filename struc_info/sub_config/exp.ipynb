{
 "cells": [
  {
   "cell_type": "code",
   "execution_count": 2,
   "metadata": {},
   "outputs": [],
   "source": [
    "import env_32_e\n",
    "import env_32_none\n",
    "import numpy as np\n",
    "import matplotlib.pyplot as plt\n",
    "from itertools import combinations\n",
    "from numpy import linalg as LA\n",
    "from fitter import Fitter\n",
    "import torch\n",
    "path = '/media/wz/a7ee6d50-691d-431a-8efb-b93adc04896d/Github/SQSdrl/'\n",
    "ind_1nn = np.load(path+'struc_info/ind_1nn.npy')\n",
    "ind_2nn = np.load(path+'struc_info/ind_2nn.npy')\n",
    "ind_3nn = np.load(path+'struc_info/ind_3nn.npy')\n",
    "ind_4nn = np.load(path+'struc_info/ind_4nn.npy')\n",
    "ind_raw = np.load(path+'struc_info/ind_raw32.npy')"
   ]
  },
  {
   "cell_type": "code",
   "execution_count": null,
   "metadata": {},
   "outputs": [],
   "source": [
    "#*Deduce the average steps per episode for classical MC.\n",
    "total_step, done_num = 1, 0\n",
    "done_list, step_list = [], []\n",
    "action_list = np.array([[i,j] for i, j in combinations(np.arange(32), 2)])\n",
    "cr_, co_, ni_ = 1/3, 1/3, 1/3\n",
    "eval_step = 100000\n",
    "\n",
    "for i in range(eval_step):\n",
    "    while True:\n",
    "        ele_list = env_32_none.ele_list_gen(cr_, co_, ni_)\n",
    "        ideal_cor = env_32_none.ideal_cor_func(cr_, co_, ind_1nn)\n",
    "        cor_func = env_32_none.cor_func_all(ele_list)\n",
    "\n",
    "        if cor_func > 30:\n",
    "            break\n",
    "\n",
    "    while True:\n",
    "        a_ind = np.random.choice(range(len(action_list)))\n",
    "        action = action_list[a_ind]\n",
    "        ele_list_n, r, cor_func_n, _ = env_32_none.swap_step(\n",
    "            action, ele_list, 8, step=1, ideal=ideal_cor)\n",
    "\n",
    "        if cor_func_n < 8:\n",
    "            done_num += 1\n",
    "            total_step += 1\n",
    "            break\n",
    "\n",
    "        total_step += 1\n",
    "\n",
    "    done_list.append(done_num)\n",
    "    step_list.append(done_num/total_step)\n",
    "    \n",
    "    # if done_num % 100 == 0:\n",
    "    #     clear_output(True)\n",
    "    #     fig, ax = plt.subplots()\n",
    "    #     ax.set_ylim([0.04, 0.08])\n",
    "    #     plt.plot(done_list, step_list)\n",
    "    #     plt.show()\n",
    "\n",
    "print(done_num, total_step)"
   ]
  },
  {
   "cell_type": "code",
   "execution_count": 62,
   "metadata": {},
   "outputs": [],
   "source": [
    "#find_overlap function from https://stackoverflow.com/questions/16970982/find-unique-rows-in-numpy-array/16973510#16973510\n",
    "def find_overlap(A, B):\n",
    "\n",
    "    if not A.dtype == B.dtype:\n",
    "        raise TypeError(\"A and B must have the same dtype\")\n",
    "    if not A.shape[1:] == B.shape[1:]:\n",
    "        raise ValueError(\"the shapes of A and B must be identical apart from \"\n",
    "                         \"the row dimension\")\n",
    "\n",
    "    # reshape A and B to 2D arrays. force a copy if neccessary in order to\n",
    "    # ensure that they are C-contiguous.\n",
    "    A = np.ascontiguousarray(A.reshape(A.shape[0], -1))\n",
    "    B = np.ascontiguousarray(B.reshape(B.shape[0], -1))\n",
    "\n",
    "    # void type that views each row in A and B as a single item\n",
    "    t = np.dtype((np.void, A.dtype.itemsize * A.shape[1]))\n",
    "\n",
    "    # use in1d to find rows in A that are also in B\n",
    "    return np.in1d(A.view(t), B.view(t))\n",
    "\n",
    "#*Deduce the A and D matrix of 32-atom FCC cell.\n",
    "#*Fix the original coordinates of atoms and embed them into a 32*1 list.\n",
    "d_ele_1nn = np.zeros((32, 32))\n",
    "a_ele_1nn = np.zeros((32, 32))\n",
    "d_ele_1nn_power = np.zeros((32, 32))\n",
    "for i in range(32):\n",
    "    d_ele_1nn[i, i] = len([atom for atom in ind_1nn if (atom[0] == i or atom[1] == i)])\n",
    "    d_ele_1nn_power[i, i] = d_ele_1nn[i, i]**(-1/2)\n",
    "    for j in range(32):\n",
    "        if (find_overlap(np.array([[i, j]]), ind_1nn)[0] == 1\n",
    "        or find_overlap(np.array([[j, i]]), ind_1nn)[0] == 1):\n",
    "            a_ele_1nn[i, j] = 1"
   ]
  },
  {
   "cell_type": "code",
   "execution_count": 30,
   "metadata": {},
   "outputs": [],
   "source": [
    "#*L_tilt\n",
    "l_ele_1nn = d_ele_1nn - a_ele_1nn\n",
    "eig_val, eig_vec = LA.eig(l_ele_1nn)\n",
    "l_1nn_tilt = 2*l_ele_1nn/np.max(eig_val)-np.identity(32)"
   ]
  },
  {
   "cell_type": "code",
   "execution_count": 72,
   "metadata": {},
   "outputs": [],
   "source": [
    "a_tilt = d_ele_1nn_power@a_ele_1nn@d_ele_1nn_power + np.identity(32)"
   ]
  },
  {
   "cell_type": "code",
   "execution_count": 73,
   "metadata": {},
   "outputs": [],
   "source": [
    "a_tilt = np.load('/media/wz/7AD631A4D6316195/Projects/SQS_drl/graph/fcc_32/a_tilt.npy')"
   ]
  },
  {
   "cell_type": "code",
   "execution_count": 55,
   "metadata": {},
   "outputs": [
    {
     "name": "stdout",
     "output_type": "stream",
     "text": [
      "{'norm': {'loc': 148.55528, 'scale': 14.540803420774246}}\n"
     ]
    },
    {
     "data": {
      "text/html": [
       "<div>\n",
       "<style scoped>\n",
       "    .dataframe tbody tr th:only-of-type {\n",
       "        vertical-align: middle;\n",
       "    }\n",
       "\n",
       "    .dataframe tbody tr th {\n",
       "        vertical-align: top;\n",
       "    }\n",
       "\n",
       "    .dataframe thead th {\n",
       "        text-align: right;\n",
       "    }\n",
       "</style>\n",
       "<table border=\"1\" class=\"dataframe\">\n",
       "  <thead>\n",
       "    <tr style=\"text-align: right;\">\n",
       "      <th></th>\n",
       "      <th>sumsquare_error</th>\n",
       "      <th>aic</th>\n",
       "      <th>bic</th>\n",
       "      <th>kl_div</th>\n",
       "    </tr>\n",
       "  </thead>\n",
       "  <tbody>\n",
       "    <tr>\n",
       "      <th>norm</th>\n",
       "      <td>0.001886</td>\n",
       "      <td>1342.944923</td>\n",
       "      <td>-1.778621e+06</td>\n",
       "      <td>inf</td>\n",
       "    </tr>\n",
       "  </tbody>\n",
       "</table>\n",
       "</div>"
      ],
      "text/plain": [
       "      sumsquare_error          aic           bic  kl_div\n",
       "norm         0.001886  1342.944923 -1.778621e+06     inf"
      ]
     },
     "execution_count": 55,
     "metadata": {},
     "output_type": "execute_result"
    },
    {
     "data": {
      "image/png": "[encoded data removed]",
      "text/plain": [
       "<Figure size 432x288 with 1 Axes>"
      ]
     },
     "metadata": {
      "needs_background": "light"
     },
     "output_type": "display_data"
    }
   ],
   "source": [
    "%matplotlib inline\n",
    "valy_pair = np.array([round(i, 3) for i in res_list])\n",
    "f_pair = Fitter(valy_pair, distributions = ['norm'], timeout = 1500)\n",
    "f_pair.fit()\n",
    "\n",
    "print(f_pair.get_best())\n",
    "f_pair.summary()"
   ]
  }
 ],
 "metadata": {
  "kernelspec": {
   "display_name": "Python 3.9.7 ('base')",
   "language": "python",
   "name": "python3"
  },
  "language_info": {
   "codemirror_mode": {
    "name": "ipython",
    "version": 3
   },
   "file_extension": ".py",
   "mimetype": "text/x-python",
   "name": "python",
   "nbconvert_exporter": "python",
   "pygments_lexer": "ipython3",
   "version": "3.9.7"
  },
  "orig_nbformat": 4,
  "vscode": {
   "interpreter": {
    "hash": "68475d8e8ba7c27bff5b0c1dcce162ecdafd8f583568d2d03f898fe272d0ccc7"
   }
  }
 },
 "nbformat": 4,
 "nbformat_minor": 2
}
